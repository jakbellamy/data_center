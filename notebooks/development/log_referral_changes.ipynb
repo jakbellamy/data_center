{
 "cells": [
  {
   "cell_type": "code",
   "execution_count": 48,
   "metadata": {
    "collapsed": true
   },
   "outputs": [],
   "source": [
    "import pandas as pd\n",
    "from src.constants import funding_by_referral_columns as report_cols"
   ]
  },
  {
   "cell_type": "code",
   "execution_count": 49,
   "outputs": [],
   "source": [
    "raw_referrals = pd.read_excel('../../data/raw/Funding By Referral Source (2006).xlsx',\n",
    "                              sheet_name='Details',\n",
    "                              skiprows=5,\n",
    "                              header=None,\n",
    "                              names=report_cols)\n",
    "\n",
    "coerced_referrals = pd.read_excel('../../data/external/manipulated_funding_by_referrals__20210617.xlsx')"
   ],
   "metadata": {
    "collapsed": false,
    "pycharm": {
     "name": "#%%\n"
    }
   }
  },
  {
   "cell_type": "code",
   "execution_count": 58,
   "outputs": [],
   "source": [
    "shared = coerced_referrals[coerced_referrals['Loan Number'].apply(pd.to_numeric).isin(raw_referrals['Loan Number'].apply(pd.to_numeric))]"
   ],
   "metadata": {
    "collapsed": false,
    "pycharm": {
     "name": "#%%\n"
    }
   }
  },
  {
   "cell_type": "code",
   "execution_count": 59,
   "outputs": [],
   "source": [
    "changes = shared[~shared.apply(lambda x: x['Referral Source'] == raw_referrals.set_index('Loan Number').loc[x['Loan Number']]['Referral Source'], axis=1)]"
   ],
   "metadata": {
    "collapsed": false,
    "pycharm": {
     "name": "#%%\n"
    }
   }
  },
  {
   "cell_type": "code",
   "execution_count": 62,
   "outputs": [],
   "source": [
    "changes.to_clipboard(index=False)"
   ],
   "metadata": {
    "collapsed": false,
    "pycharm": {
     "name": "#%%\n"
    }
   }
  },
  {
   "cell_type": "code",
   "execution_count": 61,
   "outputs": [
    {
     "data": {
      "text/plain": "       Loan Number  Branch Property State Funded Month               Borrower  \\\n413   290190204876     290             GA   2021-05-01     Miguel A. Troncoso   \n417   290200877506     290             GA   2021-05-01         Jodian S Davis   \n420   290201080619     290             GA   2021-05-01     Terrell G Williams   \n421   290201181106     290             GA   2021-05-01            Mary Laneve   \n422   290201181816     290             GA   2021-05-01  Crystal Blake Edwards   \n...            ...     ...            ...          ...                    ...   \n4221  290191279375     290             GA   2020-01-01           Olimpia Nina   \n4223  290191282263     290             GA   2020-01-01        LeMon McMickens   \n4224  290191282404     290             GA   2020-01-01           Timothy Cook   \n4225  290200184246     290             GA   2020-01-01        Jason Mistretta   \n4226  290200184756     290             GA   2020-01-01           April Wilson   \n\n      Units  Total Loan Amount     Loan Type Loan Program Lien Position  \\\n413       1             170000  Conventional          C15    First Lien   \n417       1             201276           FHA         F30+    First Lien   \n420       1             166822           FHA          F30    First Lien   \n421       1             149575           FHA          F30    First Lien   \n422       1             277400            VA         V30+    First Lien   \n...     ...                ...           ...          ...           ...   \n4221      1             240562           FHA         F30+    First Lien   \n4223      1             196000            VA          V30    First Lien   \n4224      1             342384  Conventional          C30    First Lien   \n4225      0               6680  Conventional     C30S100S   Second Lien   \n4226      1             255290           FHA          F30    First Lien   \n\n            Loan Purpose         Loan Officer            Lead Source  \\\n413   Cash-Out Refinance      Camilo Escandon         Self-Generated   \n417             Purchase          Hudson Chow         Self-Generated   \n420             Purchase          David FoxJr         Self-Generated   \n421             Purchase            Jeff Hart         Self-Generated   \n422             Purchase          Hudson Chow         Self-Generated   \n...                  ...                  ...                    ...   \n4221            Purchase  Matthew Sean Garcia  Garcia - McElroy Team   \n4223            Purchase  Matthew Sean Garcia  Garcia - McElroy Team   \n4224            Purchase  Matthew Sean Garcia  Garcia - McElroy Team   \n4225            Purchase  Matthew Sean Garcia         Self-Generated   \n4226            Purchase  Matthew Sean Garcia  Garcia - McElroy Team   \n\n            Referral Source             Referral Name  \n413                     NaN           Miguel Troncoso  \n417                     NaN                Taylor Key  \n420                     NaN                   Ed Camp  \n421                     NaN                  BEN HUNT  \n422                     NaN           Angelo Mirville  \n...                     ...                       ...  \n4221         The Heyl Group             Natalia Roque  \n4223         The Heyl Group                       NaN  \n4224         The Heyl Group             Natalia Roque  \n4225        The Lewis Group                       NaN  \n4226  Samantha Philips Inc.  Alex @ Samantha Phillips  \n\n[1953 rows x 15 columns]",
      "text/html": "<div>\n<style scoped>\n    .dataframe tbody tr th:only-of-type {\n        vertical-align: middle;\n    }\n\n    .dataframe tbody tr th {\n        vertical-align: top;\n    }\n\n    .dataframe thead th {\n        text-align: right;\n    }\n</style>\n<table border=\"1\" class=\"dataframe\">\n  <thead>\n    <tr style=\"text-align: right;\">\n      <th></th>\n      <th>Loan Number</th>\n      <th>Branch</th>\n      <th>Property State</th>\n      <th>Funded Month</th>\n      <th>Borrower</th>\n      <th>Units</th>\n      <th>Total Loan Amount</th>\n      <th>Loan Type</th>\n      <th>Loan Program</th>\n      <th>Lien Position</th>\n      <th>Loan Purpose</th>\n      <th>Loan Officer</th>\n      <th>Lead Source</th>\n      <th>Referral Source</th>\n      <th>Referral Name</th>\n    </tr>\n  </thead>\n  <tbody>\n    <tr>\n      <th>413</th>\n      <td>290190204876</td>\n      <td>290</td>\n      <td>GA</td>\n      <td>2021-05-01</td>\n      <td>Miguel A. Troncoso</td>\n      <td>1</td>\n      <td>170000</td>\n      <td>Conventional</td>\n      <td>C15</td>\n      <td>First Lien</td>\n      <td>Cash-Out Refinance</td>\n      <td>Camilo Escandon</td>\n      <td>Self-Generated</td>\n      <td>NaN</td>\n      <td>Miguel Troncoso</td>\n    </tr>\n    <tr>\n      <th>417</th>\n      <td>290200877506</td>\n      <td>290</td>\n      <td>GA</td>\n      <td>2021-05-01</td>\n      <td>Jodian S Davis</td>\n      <td>1</td>\n      <td>201276</td>\n      <td>FHA</td>\n      <td>F30+</td>\n      <td>First Lien</td>\n      <td>Purchase</td>\n      <td>Hudson Chow</td>\n      <td>Self-Generated</td>\n      <td>NaN</td>\n      <td>Taylor Key</td>\n    </tr>\n    <tr>\n      <th>420</th>\n      <td>290201080619</td>\n      <td>290</td>\n      <td>GA</td>\n      <td>2021-05-01</td>\n      <td>Terrell G Williams</td>\n      <td>1</td>\n      <td>166822</td>\n      <td>FHA</td>\n      <td>F30</td>\n      <td>First Lien</td>\n      <td>Purchase</td>\n      <td>David FoxJr</td>\n      <td>Self-Generated</td>\n      <td>NaN</td>\n      <td>Ed Camp</td>\n    </tr>\n    <tr>\n      <th>421</th>\n      <td>290201181106</td>\n      <td>290</td>\n      <td>GA</td>\n      <td>2021-05-01</td>\n      <td>Mary Laneve</td>\n      <td>1</td>\n      <td>149575</td>\n      <td>FHA</td>\n      <td>F30</td>\n      <td>First Lien</td>\n      <td>Purchase</td>\n      <td>Jeff Hart</td>\n      <td>Self-Generated</td>\n      <td>NaN</td>\n      <td>BEN HUNT</td>\n    </tr>\n    <tr>\n      <th>422</th>\n      <td>290201181816</td>\n      <td>290</td>\n      <td>GA</td>\n      <td>2021-05-01</td>\n      <td>Crystal Blake Edwards</td>\n      <td>1</td>\n      <td>277400</td>\n      <td>VA</td>\n      <td>V30+</td>\n      <td>First Lien</td>\n      <td>Purchase</td>\n      <td>Hudson Chow</td>\n      <td>Self-Generated</td>\n      <td>NaN</td>\n      <td>Angelo Mirville</td>\n    </tr>\n    <tr>\n      <th>...</th>\n      <td>...</td>\n      <td>...</td>\n      <td>...</td>\n      <td>...</td>\n      <td>...</td>\n      <td>...</td>\n      <td>...</td>\n      <td>...</td>\n      <td>...</td>\n      <td>...</td>\n      <td>...</td>\n      <td>...</td>\n      <td>...</td>\n      <td>...</td>\n      <td>...</td>\n    </tr>\n    <tr>\n      <th>4221</th>\n      <td>290191279375</td>\n      <td>290</td>\n      <td>GA</td>\n      <td>2020-01-01</td>\n      <td>Olimpia Nina</td>\n      <td>1</td>\n      <td>240562</td>\n      <td>FHA</td>\n      <td>F30+</td>\n      <td>First Lien</td>\n      <td>Purchase</td>\n      <td>Matthew Sean Garcia</td>\n      <td>Garcia - McElroy Team</td>\n      <td>The Heyl Group</td>\n      <td>Natalia Roque</td>\n    </tr>\n    <tr>\n      <th>4223</th>\n      <td>290191282263</td>\n      <td>290</td>\n      <td>GA</td>\n      <td>2020-01-01</td>\n      <td>LeMon McMickens</td>\n      <td>1</td>\n      <td>196000</td>\n      <td>VA</td>\n      <td>V30</td>\n      <td>First Lien</td>\n      <td>Purchase</td>\n      <td>Matthew Sean Garcia</td>\n      <td>Garcia - McElroy Team</td>\n      <td>The Heyl Group</td>\n      <td>NaN</td>\n    </tr>\n    <tr>\n      <th>4224</th>\n      <td>290191282404</td>\n      <td>290</td>\n      <td>GA</td>\n      <td>2020-01-01</td>\n      <td>Timothy Cook</td>\n      <td>1</td>\n      <td>342384</td>\n      <td>Conventional</td>\n      <td>C30</td>\n      <td>First Lien</td>\n      <td>Purchase</td>\n      <td>Matthew Sean Garcia</td>\n      <td>Garcia - McElroy Team</td>\n      <td>The Heyl Group</td>\n      <td>Natalia Roque</td>\n    </tr>\n    <tr>\n      <th>4225</th>\n      <td>290200184246</td>\n      <td>290</td>\n      <td>GA</td>\n      <td>2020-01-01</td>\n      <td>Jason Mistretta</td>\n      <td>0</td>\n      <td>6680</td>\n      <td>Conventional</td>\n      <td>C30S100S</td>\n      <td>Second Lien</td>\n      <td>Purchase</td>\n      <td>Matthew Sean Garcia</td>\n      <td>Self-Generated</td>\n      <td>The Lewis Group</td>\n      <td>NaN</td>\n    </tr>\n    <tr>\n      <th>4226</th>\n      <td>290200184756</td>\n      <td>290</td>\n      <td>GA</td>\n      <td>2020-01-01</td>\n      <td>April Wilson</td>\n      <td>1</td>\n      <td>255290</td>\n      <td>FHA</td>\n      <td>F30</td>\n      <td>First Lien</td>\n      <td>Purchase</td>\n      <td>Matthew Sean Garcia</td>\n      <td>Garcia - McElroy Team</td>\n      <td>Samantha Philips Inc.</td>\n      <td>Alex @ Samantha Phillips</td>\n    </tr>\n  </tbody>\n</table>\n<p>1953 rows × 15 columns</p>\n</div>"
     },
     "execution_count": 61,
     "metadata": {},
     "output_type": "execute_result"
    }
   ],
   "source": [
    "changes"
   ],
   "metadata": {
    "collapsed": false,
    "pycharm": {
     "name": "#%%\n"
    }
   }
  },
  {
   "cell_type": "code",
   "execution_count": null,
   "outputs": [],
   "source": [],
   "metadata": {
    "collapsed": false,
    "pycharm": {
     "name": "#%%\n"
    }
   }
  }
 ],
 "metadata": {
  "kernelspec": {
   "display_name": "Python 3",
   "language": "python",
   "name": "python3"
  },
  "language_info": {
   "codemirror_mode": {
    "name": "ipython",
    "version": 2
   },
   "file_extension": ".py",
   "mimetype": "text/x-python",
   "name": "python",
   "nbconvert_exporter": "python",
   "pygments_lexer": "ipython2",
   "version": "2.7.6"
  }
 },
 "nbformat": 4,
 "nbformat_minor": 0
}